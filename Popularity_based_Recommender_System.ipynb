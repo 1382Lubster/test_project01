{
  "nbformat": 4,
  "nbformat_minor": 0,
  "metadata": {
    "kernelspec": {
      "display_name": "Python 3",
      "language": "python",
      "name": "python3"
    },
    "language_info": {
      "codemirror_mode": {
        "name": "ipython",
        "version": 3
      },
      "file_extension": ".py",
      "mimetype": "text/x-python",
      "name": "python",
      "nbconvert_exporter": "python",
      "pygments_lexer": "ipython3",
      "version": "3.6.5"
    },
    "colab": {
      "name": "Popularity based Recommender System.ipynb",
      "provenance": [],
      "include_colab_link": true
    }
  },
  "cells": [
    {
      "cell_type": "markdown",
      "metadata": {
        "id": "view-in-github",
        "colab_type": "text"
      },
      "source": [
        "<a href=\"https://colab.research.google.com/github/1382Lubster/test_project01/blob/master/Popularity_based_Recommender_System.ipynb\" target=\"_parent\"><img src=\"https://colab.research.google.com/assets/colab-badge.svg\" alt=\"Open In Colab\"/></a>"
      ]
    },
    {
      "cell_type": "markdown",
      "metadata": {
        "id": "iW4SaY4_AfCW",
        "colab_type": "text"
      },
      "source": [
        "# 1. Import Packages needed"
      ]
    },
    {
      "cell_type": "code",
      "metadata": {
        "id": "dmJ5PHhKAfCX",
        "colab_type": "code",
        "colab": {},
        "outputId": "804b6136-a387-4b6c-bf6d-be465083a550"
      },
      "source": [
        "import numpy as np\n",
        "import pandas as pd\n",
        "#-----------------------------------------------Plotting packages\n",
        "import matplotlib.pyplot as plt\n",
        "%matplotlib inline\n",
        "#-------------------------------------------set column width & supress warnings\n",
        "pd.set_option('max_colwidth', 500)\n",
        "import json\n",
        "import gzip\n",
        "import warnings\n",
        "warnings.filterwarnings('ignore')\n",
        "import os\n",
        "print(os.getcwd())"
      ],
      "execution_count": 0,
      "outputs": [
        {
          "output_type": "stream",
          "text": [
            "C:\\Users\\user\\Desktop\\data amazon\n"
          ],
          "name": "stdout"
        }
      ]
    },
    {
      "cell_type": "markdown",
      "metadata": {
        "id": "4ofSjLpjAfCa",
        "colab_type": "text"
      },
      "source": [
        "# 2.Import data files as Pandas dataframes"
      ]
    },
    {
      "cell_type": "code",
      "metadata": {
        "id": "xNP12VT6AfCa",
        "colab_type": "code",
        "colab": {}
      },
      "source": [
        "#Initialise path to import gz file from json fomat to Pandas DataFrame\n",
        "def parse(path):\n",
        "  g = gzip.open(path, 'rb')\n",
        "  for l in g:\n",
        "    yield eval(l)\n",
        "\n",
        "def getDF(path):\n",
        "  i = 0\n",
        "  df = {}\n",
        "  for d in parse(path):\n",
        "    df[i] = d\n",
        "    i += 1\n",
        "  return pd.DataFrame.from_dict(df, orient='index')"
      ],
      "execution_count": 0,
      "outputs": []
    },
    {
      "cell_type": "code",
      "metadata": {
        "id": "n4xXPuaFAfCc",
        "colab_type": "code",
        "colab": {},
        "outputId": "01573617-8986-4769-c38b-b68126cefec2"
      },
      "source": [
        "#Import meta data \n",
        "df1 = pd.read_csv('Pets titles ranks.csv')\n",
        "Desc1=df1.info()\n",
        "Desc1"
      ],
      "execution_count": 0,
      "outputs": [
        {
          "output_type": "stream",
          "text": [
            "<class 'pandas.core.frame.DataFrame'>\n",
            "RangeIndex: 110707 entries, 0 to 110706\n",
            "Data columns (total 3 columns):\n",
            "asin         110707 non-null object\n",
            "title        110497 non-null object\n",
            "salesRank    108454 non-null object\n",
            "dtypes: object(3)\n",
            "memory usage: 2.5+ MB\n"
          ],
          "name": "stdout"
        }
      ]
    },
    {
      "cell_type": "code",
      "metadata": {
        "id": "Zt6cXrkbAfCf",
        "colab_type": "code",
        "colab": {},
        "outputId": "0b43e871-26a2-41ac-90dd-a05da0e409dd"
      },
      "source": [
        "df1.head()"
      ],
      "execution_count": 0,
      "outputs": [
        {
          "output_type": "execute_result",
          "data": {
            "text/html": [
              "<div>\n",
              "<style scoped>\n",
              "    .dataframe tbody tr th:only-of-type {\n",
              "        vertical-align: middle;\n",
              "    }\n",
              "\n",
              "    .dataframe tbody tr th {\n",
              "        vertical-align: top;\n",
              "    }\n",
              "\n",
              "    .dataframe thead th {\n",
              "        text-align: right;\n",
              "    }\n",
              "</style>\n",
              "<table border=\"1\" class=\"dataframe\">\n",
              "  <thead>\n",
              "    <tr style=\"text-align: right;\">\n",
              "      <th></th>\n",
              "      <th>asin</th>\n",
              "      <th>title</th>\n",
              "      <th>salesRank</th>\n",
              "    </tr>\n",
              "  </thead>\n",
              "  <tbody>\n",
              "    <tr>\n",
              "      <td>0</td>\n",
              "      <td>0615553605</td>\n",
              "      <td>Pet Qwerks Treat Cookbook with Cutters</td>\n",
              "      <td>{'Pet Supplies': 34134}</td>\n",
              "    </tr>\n",
              "    <tr>\n",
              "      <td>1</td>\n",
              "      <td>0615583474</td>\n",
              "      <td>It's A Cat's Life</td>\n",
              "      <td>{'Pet Supplies': 452691}</td>\n",
              "    </tr>\n",
              "    <tr>\n",
              "      <td>2</td>\n",
              "      <td>0972585419</td>\n",
              "      <td>Feathered Phonics The Easy Way To Teach Your Bird To Speak Volume 1: 96 Words and Phrases</td>\n",
              "      <td>{'Pet Supplies': 21104}</td>\n",
              "    </tr>\n",
              "    <tr>\n",
              "      <td>3</td>\n",
              "      <td>0975412809</td>\n",
              "      <td>Notes From The Grooming Table by Melissa Verplank</td>\n",
              "      <td>{'Pet Supplies': 1960}</td>\n",
              "    </tr>\n",
              "    <tr>\n",
              "      <td>4</td>\n",
              "      <td>0975412868</td>\n",
              "      <td>Theory of Five Book by Melissa Verplank</td>\n",
              "      <td>{'Pet Supplies': 70355}</td>\n",
              "    </tr>\n",
              "  </tbody>\n",
              "</table>\n",
              "</div>"
            ],
            "text/plain": [
              "         asin  \\\n",
              "0  0615553605   \n",
              "1  0615583474   \n",
              "2  0972585419   \n",
              "3  0975412809   \n",
              "4  0975412868   \n",
              "\n",
              "                                                                                       title  \\\n",
              "0                                                     Pet Qwerks Treat Cookbook with Cutters   \n",
              "1                                                                          It's A Cat's Life   \n",
              "2  Feathered Phonics The Easy Way To Teach Your Bird To Speak Volume 1: 96 Words and Phrases   \n",
              "3                                          Notes From The Grooming Table by Melissa Verplank   \n",
              "4                                                    Theory of Five Book by Melissa Verplank   \n",
              "\n",
              "                  salesRank  \n",
              "0   {'Pet Supplies': 34134}  \n",
              "1  {'Pet Supplies': 452691}  \n",
              "2   {'Pet Supplies': 21104}  \n",
              "3    {'Pet Supplies': 1960}  \n",
              "4   {'Pet Supplies': 70355}  "
            ]
          },
          "metadata": {
            "tags": []
          },
          "execution_count": 4
        }
      ]
    },
    {
      "cell_type": "code",
      "metadata": {
        "id": "KlXiVgsWAfCh",
        "colab_type": "code",
        "colab": {},
        "outputId": "d89b77df-e08e-43f5-d735-b34e2ad6d7e9"
      },
      "source": [
        "#Import reviews data \n",
        "df2 = getDF('reviews_Pet_Supplies.json.gz')\n",
        "Desc2=df2.info()\n",
        "Desc2"
      ],
      "execution_count": 0,
      "outputs": [
        {
          "output_type": "stream",
          "text": [
            "<class 'pandas.core.frame.DataFrame'>\n",
            "Int64Index: 1235316 entries, 0 to 1235315\n",
            "Data columns (total 9 columns):\n",
            "reviewerID        1235316 non-null object\n",
            "asin              1235316 non-null object\n",
            "reviewerName      1226133 non-null object\n",
            "helpful           1235316 non-null object\n",
            "reviewText        1235316 non-null object\n",
            "overall           1235316 non-null float64\n",
            "summary           1235316 non-null object\n",
            "unixReviewTime    1235316 non-null int64\n",
            "reviewTime        1235316 non-null object\n",
            "dtypes: float64(1), int64(1), object(7)\n",
            "memory usage: 94.2+ MB\n"
          ],
          "name": "stdout"
        }
      ]
    },
    {
      "cell_type": "code",
      "metadata": {
        "id": "V7EO46JRAfCj",
        "colab_type": "code",
        "colab": {},
        "outputId": "edbed81b-bf77-4a18-f450-b0d3602524c1"
      },
      "source": [
        "df2.head()"
      ],
      "execution_count": 0,
      "outputs": [
        {
          "output_type": "execute_result",
          "data": {
            "text/html": [
              "<div>\n",
              "<style scoped>\n",
              "    .dataframe tbody tr th:only-of-type {\n",
              "        vertical-align: middle;\n",
              "    }\n",
              "\n",
              "    .dataframe tbody tr th {\n",
              "        vertical-align: top;\n",
              "    }\n",
              "\n",
              "    .dataframe thead th {\n",
              "        text-align: right;\n",
              "    }\n",
              "</style>\n",
              "<table border=\"1\" class=\"dataframe\">\n",
              "  <thead>\n",
              "    <tr style=\"text-align: right;\">\n",
              "      <th></th>\n",
              "      <th>reviewerID</th>\n",
              "      <th>asin</th>\n",
              "      <th>reviewerName</th>\n",
              "      <th>helpful</th>\n",
              "      <th>reviewText</th>\n",
              "      <th>overall</th>\n",
              "      <th>summary</th>\n",
              "      <th>unixReviewTime</th>\n",
              "      <th>reviewTime</th>\n",
              "    </tr>\n",
              "  </thead>\n",
              "  <tbody>\n",
              "    <tr>\n",
              "      <td>0</td>\n",
              "      <td>A3PG0KS1YE8MR4</td>\n",
              "      <td>0615553605</td>\n",
              "      <td>Big Sky Gal</td>\n",
              "      <td>[3, 3]</td>\n",
              "      <td>Recipes are easy and the dogs love them. I would buy this book again and again.  Only thing is that the recipes don't tell you how many treats they make, but I suppose that's because you could make them all different sizes.  Great buy!</td>\n",
              "      <td>5.0</td>\n",
              "      <td>Great little book!</td>\n",
              "      <td>1354838400</td>\n",
              "      <td>12 7, 2012</td>\n",
              "    </tr>\n",
              "    <tr>\n",
              "      <td>1</td>\n",
              "      <td>A363P047LR5XI6</td>\n",
              "      <td>0615553605</td>\n",
              "      <td>Miguel Giraldo</td>\n",
              "      <td>[2, 2]</td>\n",
              "      <td>I received the book in the mail yesterday, the treat cutters are pretty nice and it has different sizes for different sized dogs. I have not made any of the treat/food recipes in the book yet but i looked through it and there's a lot of really nice looking treats with easy ingredients and instructions. I noticed one of them includes garlic powder ( i thought garlic was bad for dogs! ) but i just won't use garlic powder on the recipe asking for it. 4/5 stars because i have not cooked any of t...</td>\n",
              "      <td>4.0</td>\n",
              "      <td>Nice little book</td>\n",
              "      <td>1373932800</td>\n",
              "      <td>07 16, 2013</td>\n",
              "    </tr>\n",
              "    <tr>\n",
              "      <td>2</td>\n",
              "      <td>ABZ8CQXD42H4</td>\n",
              "      <td>0615553605</td>\n",
              "      <td>Ross Lockhart</td>\n",
              "      <td>[0, 0]</td>\n",
              "      <td>Not so good.  Some of the recipes are not what I would feed my dog. Can not recommend this book</td>\n",
              "      <td>1.0</td>\n",
              "      <td>Did not like the book</td>\n",
              "      <td>1386028800</td>\n",
              "      <td>12 3, 2013</td>\n",
              "    </tr>\n",
              "    <tr>\n",
              "      <td>3</td>\n",
              "      <td>A3J8QW1MV1OP01</td>\n",
              "      <td>0615583474</td>\n",
              "      <td>Beth Light</td>\n",
              "      <td>[4, 4]</td>\n",
              "      <td>This is a fun, interactive book that incorporates the story of \"Howie, the World's Greatest Cat\" with helpful information concerning cat behavior and care.  Like a \"baby book\" for your cat, it provides places to attach photos, record milestones and memories, store medical records, etc., in one handy place.  The heavy-duty pages are in a high-quality binder, and there are very nice pocket pages in the back of the book to hold medical records and the like.  The colorful illustrations are cute ...</td>\n",
              "      <td>5.0</td>\n",
              "      <td>This is a Precious Book for Precious Cats</td>\n",
              "      <td>1347321600</td>\n",
              "      <td>09 11, 2012</td>\n",
              "    </tr>\n",
              "    <tr>\n",
              "      <td>4</td>\n",
              "      <td>A3ISA8Z0NB0ILH</td>\n",
              "      <td>0615583474</td>\n",
              "      <td>George D. Marshall \"george1767\"</td>\n",
              "      <td>[3, 3]</td>\n",
              "      <td></td>\n",
              "      <td>5.0</td>\n",
              "      <td>Video review of Howie and Friends</td>\n",
              "      <td>1358899200</td>\n",
              "      <td>01 23, 2013</td>\n",
              "    </tr>\n",
              "  </tbody>\n",
              "</table>\n",
              "</div>"
            ],
            "text/plain": [
              "       reviewerID        asin                     reviewerName helpful  \\\n",
              "0  A3PG0KS1YE8MR4  0615553605                      Big Sky Gal  [3, 3]   \n",
              "1  A363P047LR5XI6  0615553605                   Miguel Giraldo  [2, 2]   \n",
              "2    ABZ8CQXD42H4  0615553605                    Ross Lockhart  [0, 0]   \n",
              "3  A3J8QW1MV1OP01  0615583474                       Beth Light  [4, 4]   \n",
              "4  A3ISA8Z0NB0ILH  0615583474  George D. Marshall \"george1767\"  [3, 3]   \n",
              "\n",
              "                                                                                                                                                                                                                                                                                                                                                                                                                                                                                                            reviewText  \\\n",
              "0                                                                                                                                                                                                                                                                          Recipes are easy and the dogs love them. I would buy this book again and again.  Only thing is that the recipes don't tell you how many treats they make, but I suppose that's because you could make them all different sizes.  Great buy!   \n",
              "1  I received the book in the mail yesterday, the treat cutters are pretty nice and it has different sizes for different sized dogs. I have not made any of the treat/food recipes in the book yet but i looked through it and there's a lot of really nice looking treats with easy ingredients and instructions. I noticed one of them includes garlic powder ( i thought garlic was bad for dogs! ) but i just won't use garlic powder on the recipe asking for it. 4/5 stars because i have not cooked any of t...   \n",
              "2                                                                                                                                                                                                                                                                                                                                                                                                                      Not so good.  Some of the recipes are not what I would feed my dog. Can not recommend this book   \n",
              "3  This is a fun, interactive book that incorporates the story of \"Howie, the World's Greatest Cat\" with helpful information concerning cat behavior and care.  Like a \"baby book\" for your cat, it provides places to attach photos, record milestones and memories, store medical records, etc., in one handy place.  The heavy-duty pages are in a high-quality binder, and there are very nice pocket pages in the back of the book to hold medical records and the like.  The colorful illustrations are cute ...   \n",
              "4                                                                                                                                                                                                                                                                                                                                                                                                                                                                                                                        \n",
              "\n",
              "   overall                                    summary  unixReviewTime  \\\n",
              "0      5.0                         Great little book!      1354838400   \n",
              "1      4.0                           Nice little book      1373932800   \n",
              "2      1.0                      Did not like the book      1386028800   \n",
              "3      5.0  This is a Precious Book for Precious Cats      1347321600   \n",
              "4      5.0          Video review of Howie and Friends      1358899200   \n",
              "\n",
              "    reviewTime  \n",
              "0   12 7, 2012  \n",
              "1  07 16, 2013  \n",
              "2   12 3, 2013  \n",
              "3  09 11, 2012  \n",
              "4  01 23, 2013  "
            ]
          },
          "metadata": {
            "tags": []
          },
          "execution_count": 6
        }
      ]
    },
    {
      "cell_type": "code",
      "metadata": {
        "id": "oNG9ws8OAfCl",
        "colab_type": "code",
        "colab": {},
        "outputId": "94e409cd-65cc-421a-ae09-c4bba79e3855"
      },
      "source": [
        "#select items active within the last 3 months\n",
        "df2['reviewTime']=pd.to_datetime(df2['reviewTime'])\n",
        "df2['Year']=df2['reviewTime'].dt.year# Extract year\n",
        "df2['Month']=df2['reviewTime'].dt.month #Extract month\n",
        "\n",
        "#Last year of activity\n",
        "df2['Year'].max()\n",
        "\n",
        "#Last date of activity\n",
        "df2['reviewTime'].max()\n",
        "\n",
        "#Select items within the last 3 months\n",
        "df2=df2.loc[df2.Year==2014]# data for 2014 only\n",
        "df2=df2.loc[df2.Month>4]#data for May, June & July\n",
        "df2.head()"
      ],
      "execution_count": 0,
      "outputs": [
        {
          "output_type": "execute_result",
          "data": {
            "text/html": [
              "<div>\n",
              "<style scoped>\n",
              "    .dataframe tbody tr th:only-of-type {\n",
              "        vertical-align: middle;\n",
              "    }\n",
              "\n",
              "    .dataframe tbody tr th {\n",
              "        vertical-align: top;\n",
              "    }\n",
              "\n",
              "    .dataframe thead th {\n",
              "        text-align: right;\n",
              "    }\n",
              "</style>\n",
              "<table border=\"1\" class=\"dataframe\">\n",
              "  <thead>\n",
              "    <tr style=\"text-align: right;\">\n",
              "      <th></th>\n",
              "      <th>reviewerID</th>\n",
              "      <th>asin</th>\n",
              "      <th>reviewerName</th>\n",
              "      <th>helpful</th>\n",
              "      <th>reviewText</th>\n",
              "      <th>overall</th>\n",
              "      <th>summary</th>\n",
              "      <th>unixReviewTime</th>\n",
              "      <th>reviewTime</th>\n",
              "      <th>Year</th>\n",
              "      <th>Month</th>\n",
              "    </tr>\n",
              "  </thead>\n",
              "  <tbody>\n",
              "    <tr>\n",
              "      <td>34</td>\n",
              "      <td>A3SFDCRCK2YAJB</td>\n",
              "      <td>0975412809</td>\n",
              "      <td>NaN</td>\n",
              "      <td>[0, 0]</td>\n",
              "      <td>I had a copy years ago, sold due to funds at the time. Now it's less than half the cost it used to be, got this copy so that I can show references to clients, other groomers, etc. Very handy. Every dog groomer should own this book. This is the grooming Bible. Never think you know enough, there is never enough in this industry, and we're only as smart as our resources. No one can remember 100% of this book by heart, and if you can, please go on Jeopardy because that kind of memory is very rar...</td>\n",
              "      <td>5.0</td>\n",
              "      <td>Can't believe I got rid of this book years ago.</td>\n",
              "      <td>1405296000</td>\n",
              "      <td>2014-07-14</td>\n",
              "      <td>2014</td>\n",
              "      <td>7</td>\n",
              "    </tr>\n",
              "    <tr>\n",
              "      <td>48</td>\n",
              "      <td>A3R2MNI9Y6LUE1</td>\n",
              "      <td>0975412809</td>\n",
              "      <td>Debbie Pickett</td>\n",
              "      <td>[0, 0]</td>\n",
              "      <td>This is an excellent book with great details for each breed and great pictures.  I would recommend this book for anyone wanting notes on each breed grooming type.</td>\n",
              "      <td>5.0</td>\n",
              "      <td>Super book</td>\n",
              "      <td>1401148800</td>\n",
              "      <td>2014-05-27</td>\n",
              "      <td>2014</td>\n",
              "      <td>5</td>\n",
              "    </tr>\n",
              "    <tr>\n",
              "      <td>52</td>\n",
              "      <td>A2YF4Y717WBTQH</td>\n",
              "      <td>0975412809</td>\n",
              "      <td>Dorene Dennis</td>\n",
              "      <td>[0, 0]</td>\n",
              "      <td>I bought the book because I am interested in going to grooming school. Overall the book is filled with information on all aspects of dog grooming and care.</td>\n",
              "      <td>4.0</td>\n",
              "      <td>Notes From The Grooming Table</td>\n",
              "      <td>1399075200</td>\n",
              "      <td>2014-05-03</td>\n",
              "      <td>2014</td>\n",
              "      <td>5</td>\n",
              "    </tr>\n",
              "    <tr>\n",
              "      <td>70</td>\n",
              "      <td>A1PUK9HN0DRYMZ</td>\n",
              "      <td>0975412809</td>\n",
              "      <td>rachelcorbettphoto</td>\n",
              "      <td>[0, 0]</td>\n",
              "      <td>I am a groomer and this a an excellent book for refreshers. Especially on breed specific cuts. I use this almost daily =)</td>\n",
              "      <td>5.0</td>\n",
              "      <td>Excellent book!!</td>\n",
              "      <td>1400630400</td>\n",
              "      <td>2014-05-21</td>\n",
              "      <td>2014</td>\n",
              "      <td>5</td>\n",
              "    </tr>\n",
              "    <tr>\n",
              "      <td>74</td>\n",
              "      <td>A136BYKJMN59R3</td>\n",
              "      <td>0975412809</td>\n",
              "      <td>ryan santos</td>\n",
              "      <td>[0, 0]</td>\n",
              "      <td>this book is only intended for the dogs actual breed haircut. i live in a world where i have to go by what the customer wants so this didnt really do anything for me.</td>\n",
              "      <td>1.0</td>\n",
              "      <td>not for everyday grooming</td>\n",
              "      <td>1403827200</td>\n",
              "      <td>2014-06-27</td>\n",
              "      <td>2014</td>\n",
              "      <td>6</td>\n",
              "    </tr>\n",
              "  </tbody>\n",
              "</table>\n",
              "</div>"
            ],
            "text/plain": [
              "        reviewerID        asin        reviewerName helpful  \\\n",
              "34  A3SFDCRCK2YAJB  0975412809                 NaN  [0, 0]   \n",
              "48  A3R2MNI9Y6LUE1  0975412809      Debbie Pickett  [0, 0]   \n",
              "52  A2YF4Y717WBTQH  0975412809       Dorene Dennis  [0, 0]   \n",
              "70  A1PUK9HN0DRYMZ  0975412809  rachelcorbettphoto  [0, 0]   \n",
              "74  A136BYKJMN59R3  0975412809         ryan santos  [0, 0]   \n",
              "\n",
              "                                                                                                                                                                                                                                                                                                                                                                                                                                                                                                             reviewText  \\\n",
              "34  I had a copy years ago, sold due to funds at the time. Now it's less than half the cost it used to be, got this copy so that I can show references to clients, other groomers, etc. Very handy. Every dog groomer should own this book. This is the grooming Bible. Never think you know enough, there is never enough in this industry, and we're only as smart as our resources. No one can remember 100% of this book by heart, and if you can, please go on Jeopardy because that kind of memory is very rar...   \n",
              "48                                                                                                                                                                                                                                                                                                                                                   This is an excellent book with great details for each breed and great pictures.  I would recommend this book for anyone wanting notes on each breed grooming type.   \n",
              "52                                                                                                                                                                                                                                                                                                                                                          I bought the book because I am interested in going to grooming school. Overall the book is filled with information on all aspects of dog grooming and care.   \n",
              "70                                                                                                                                                                                                                                                                                                                                                                                            I am a groomer and this a an excellent book for refreshers. Especially on breed specific cuts. I use this almost daily =)   \n",
              "74                                                                                                                                                                                                                                                                                                                                               this book is only intended for the dogs actual breed haircut. i live in a world where i have to go by what the customer wants so this didnt really do anything for me.   \n",
              "\n",
              "    overall                                          summary  unixReviewTime  \\\n",
              "34      5.0  Can't believe I got rid of this book years ago.      1405296000   \n",
              "48      5.0                                       Super book      1401148800   \n",
              "52      4.0                    Notes From The Grooming Table      1399075200   \n",
              "70      5.0                                 Excellent book!!      1400630400   \n",
              "74      1.0                        not for everyday grooming      1403827200   \n",
              "\n",
              "   reviewTime  Year  Month  \n",
              "34 2014-07-14  2014      7  \n",
              "48 2014-05-27  2014      5  \n",
              "52 2014-05-03  2014      5  \n",
              "70 2014-05-21  2014      5  \n",
              "74 2014-06-27  2014      6  "
            ]
          },
          "metadata": {
            "tags": []
          },
          "execution_count": 7
        }
      ]
    },
    {
      "cell_type": "code",
      "metadata": {
        "id": "DGW8BKeeAfCo",
        "colab_type": "code",
        "colab": {}
      },
      "source": [
        "#select features\n",
        "df2=df2[['asin','reviewerID','overall']]"
      ],
      "execution_count": 0,
      "outputs": []
    },
    {
      "cell_type": "markdown",
      "metadata": {
        "id": "n0p11JeFAfCp",
        "colab_type": "text"
      },
      "source": [
        "# 3.Preprocessing"
      ]
    },
    {
      "cell_type": "markdown",
      "metadata": {
        "id": "jROC_cS2AfCq",
        "colab_type": "text"
      },
      "source": [
        "## 3.a.Preprocessing meta data"
      ]
    },
    {
      "cell_type": "code",
      "metadata": {
        "id": "IpapvcTHAfCq",
        "colab_type": "code",
        "colab": {}
      },
      "source": [
        "#Extract Rank from salesRank using delimiter\n",
        "df1['salesRank']=df1['salesRank'].astype(str)#Explicitly change datatype to string\n",
        "df1['Rank'] = df1['salesRank'].str.split(':').str[1].str.replace('[^\\w\\s]','')#Extract Rank\n",
        "df1['Rank']=df1['Rank'].astype(float)"
      ],
      "execution_count": 0,
      "outputs": []
    },
    {
      "cell_type": "code",
      "metadata": {
        "id": "KpdQ2LjRAfCs",
        "colab_type": "code",
        "colab": {},
        "outputId": "27c12de6-e6ca-4549-880e-57521f8ed886"
      },
      "source": [
        "#Select fields needed\n",
        "df1a=df1[['asin','Rank','title']]\n",
        "df1a=df1a.sort_values(by='Rank', ascending=True)\n",
        "df1a.head()"
      ],
      "execution_count": 0,
      "outputs": [
        {
          "output_type": "execute_result",
          "data": {
            "text/html": [
              "<div>\n",
              "<style scoped>\n",
              "    .dataframe tbody tr th:only-of-type {\n",
              "        vertical-align: middle;\n",
              "    }\n",
              "\n",
              "    .dataframe tbody tr th {\n",
              "        vertical-align: top;\n",
              "    }\n",
              "\n",
              "    .dataframe thead th {\n",
              "        text-align: right;\n",
              "    }\n",
              "</style>\n",
              "<table border=\"1\" class=\"dataframe\">\n",
              "  <thead>\n",
              "    <tr style=\"text-align: right;\">\n",
              "      <th></th>\n",
              "      <th>asin</th>\n",
              "      <th>Rank</th>\n",
              "      <th>title</th>\n",
              "    </tr>\n",
              "  </thead>\n",
              "  <tbody>\n",
              "    <tr>\n",
              "      <td>11340</td>\n",
              "      <td>B0009X29WK</td>\n",
              "      <td>1.0</td>\n",
              "      <td>Precious Cat Ultra Premium Clumping Cat Litter, 40 pound bag</td>\n",
              "    </tr>\n",
              "    <tr>\n",
              "      <td>22861</td>\n",
              "      <td>B000W5SLB8</td>\n",
              "      <td>2.0</td>\n",
              "      <td>Taste of the Wild Dry Dog Food, Hi Prairie Canine Formula with Roasted Bison &amp;amp; Venison, 30-Pound Bag</td>\n",
              "    </tr>\n",
              "    <tr>\n",
              "      <td>59733</td>\n",
              "      <td>B004QBDO0M</td>\n",
              "      <td>3.0</td>\n",
              "      <td>Bayer K9 Advantage II Flea Control Treatment for Cats</td>\n",
              "    </tr>\n",
              "    <tr>\n",
              "      <td>103220</td>\n",
              "      <td>B00EI673B6</td>\n",
              "      <td>5.0</td>\n",
              "      <td>All-absorb Training Pads 100-count, 22-inch By 23-inch</td>\n",
              "    </tr>\n",
              "    <tr>\n",
              "      <td>35230</td>\n",
              "      <td>B001STX13U</td>\n",
              "      <td>6.0</td>\n",
              "      <td>Fancy Feast</td>\n",
              "    </tr>\n",
              "  </tbody>\n",
              "</table>\n",
              "</div>"
            ],
            "text/plain": [
              "              asin  Rank  \\\n",
              "11340   B0009X29WK   1.0   \n",
              "22861   B000W5SLB8   2.0   \n",
              "59733   B004QBDO0M   3.0   \n",
              "103220  B00EI673B6   5.0   \n",
              "35230   B001STX13U   6.0   \n",
              "\n",
              "                                                                                                           title  \n",
              "11340                                               Precious Cat Ultra Premium Clumping Cat Litter, 40 pound bag  \n",
              "22861   Taste of the Wild Dry Dog Food, Hi Prairie Canine Formula with Roasted Bison &amp; Venison, 30-Pound Bag  \n",
              "59733                                                      Bayer K9 Advantage II Flea Control Treatment for Cats  \n",
              "103220                                                    All-absorb Training Pads 100-count, 22-inch By 23-inch  \n",
              "35230                                                                                                Fancy Feast  "
            ]
          },
          "metadata": {
            "tags": []
          },
          "execution_count": 10
        }
      ]
    },
    {
      "cell_type": "markdown",
      "metadata": {
        "id": "MNaGOSy4AfCu",
        "colab_type": "text"
      },
      "source": [
        "## 3.b. Preprocessing reviews data"
      ]
    },
    {
      "cell_type": "code",
      "metadata": {
        "id": "ZcdBMkDFAfCu",
        "colab_type": "code",
        "colab": {},
        "outputId": "c364d625-3b69-4453-c454-065f5776c95c"
      },
      "source": [
        "#Get average rating & number of reviewers for each item\n",
        "df2=pd.DataFrame(df2.groupby('asin').agg({'overall':['mean'],'reviewerID':['count']}))\n",
        "df2.head()"
      ],
      "execution_count": 0,
      "outputs": [
        {
          "output_type": "execute_result",
          "data": {
            "text/html": [
              "<div>\n",
              "<style scoped>\n",
              "    .dataframe tbody tr th:only-of-type {\n",
              "        vertical-align: middle;\n",
              "    }\n",
              "\n",
              "    .dataframe tbody tr th {\n",
              "        vertical-align: top;\n",
              "    }\n",
              "\n",
              "    .dataframe thead tr th {\n",
              "        text-align: left;\n",
              "    }\n",
              "\n",
              "    .dataframe thead tr:last-of-type th {\n",
              "        text-align: right;\n",
              "    }\n",
              "</style>\n",
              "<table border=\"1\" class=\"dataframe\">\n",
              "  <thead>\n",
              "    <tr>\n",
              "      <th></th>\n",
              "      <th>overall</th>\n",
              "      <th>reviewerID</th>\n",
              "    </tr>\n",
              "    <tr>\n",
              "      <th></th>\n",
              "      <th>mean</th>\n",
              "      <th>count</th>\n",
              "    </tr>\n",
              "    <tr>\n",
              "      <th>asin</th>\n",
              "      <th></th>\n",
              "      <th></th>\n",
              "    </tr>\n",
              "  </thead>\n",
              "  <tbody>\n",
              "    <tr>\n",
              "      <td>0975412809</td>\n",
              "      <td>4.166667</td>\n",
              "      <td>6</td>\n",
              "    </tr>\n",
              "    <tr>\n",
              "      <td>0979699967</td>\n",
              "      <td>4.000000</td>\n",
              "      <td>1</td>\n",
              "    </tr>\n",
              "    <tr>\n",
              "      <td>0983794812</td>\n",
              "      <td>5.000000</td>\n",
              "      <td>2</td>\n",
              "    </tr>\n",
              "    <tr>\n",
              "      <td>1083812550</td>\n",
              "      <td>4.000000</td>\n",
              "      <td>1</td>\n",
              "    </tr>\n",
              "    <tr>\n",
              "      <td>1083813210</td>\n",
              "      <td>2.000000</td>\n",
              "      <td>1</td>\n",
              "    </tr>\n",
              "  </tbody>\n",
              "</table>\n",
              "</div>"
            ],
            "text/plain": [
              "             overall reviewerID\n",
              "                mean      count\n",
              "asin                           \n",
              "0975412809  4.166667          6\n",
              "0979699967  4.000000          1\n",
              "0983794812  5.000000          2\n",
              "1083812550  4.000000          1\n",
              "1083813210  2.000000          1"
            ]
          },
          "metadata": {
            "tags": []
          },
          "execution_count": 11
        }
      ]
    },
    {
      "cell_type": "code",
      "metadata": {
        "id": "W-Mcj8toAfCw",
        "colab_type": "code",
        "colab": {},
        "outputId": "08794ee8-3fc7-4461-899f-d66e62af9416"
      },
      "source": [
        "#Drop index at level 1\n",
        "df2.columns = df2.columns.droplevel(1)\n",
        "df2.head()"
      ],
      "execution_count": 0,
      "outputs": [
        {
          "output_type": "execute_result",
          "data": {
            "text/html": [
              "<div>\n",
              "<style scoped>\n",
              "    .dataframe tbody tr th:only-of-type {\n",
              "        vertical-align: middle;\n",
              "    }\n",
              "\n",
              "    .dataframe tbody tr th {\n",
              "        vertical-align: top;\n",
              "    }\n",
              "\n",
              "    .dataframe thead th {\n",
              "        text-align: right;\n",
              "    }\n",
              "</style>\n",
              "<table border=\"1\" class=\"dataframe\">\n",
              "  <thead>\n",
              "    <tr style=\"text-align: right;\">\n",
              "      <th></th>\n",
              "      <th>overall</th>\n",
              "      <th>reviewerID</th>\n",
              "    </tr>\n",
              "    <tr>\n",
              "      <th>asin</th>\n",
              "      <th></th>\n",
              "      <th></th>\n",
              "    </tr>\n",
              "  </thead>\n",
              "  <tbody>\n",
              "    <tr>\n",
              "      <td>0975412809</td>\n",
              "      <td>4.166667</td>\n",
              "      <td>6</td>\n",
              "    </tr>\n",
              "    <tr>\n",
              "      <td>0979699967</td>\n",
              "      <td>4.000000</td>\n",
              "      <td>1</td>\n",
              "    </tr>\n",
              "    <tr>\n",
              "      <td>0983794812</td>\n",
              "      <td>5.000000</td>\n",
              "      <td>2</td>\n",
              "    </tr>\n",
              "    <tr>\n",
              "      <td>1083812550</td>\n",
              "      <td>4.000000</td>\n",
              "      <td>1</td>\n",
              "    </tr>\n",
              "    <tr>\n",
              "      <td>1083813210</td>\n",
              "      <td>2.000000</td>\n",
              "      <td>1</td>\n",
              "    </tr>\n",
              "  </tbody>\n",
              "</table>\n",
              "</div>"
            ],
            "text/plain": [
              "             overall  reviewerID\n",
              "asin                            \n",
              "0975412809  4.166667           6\n",
              "0979699967  4.000000           1\n",
              "0983794812  5.000000           2\n",
              "1083812550  4.000000           1\n",
              "1083813210  2.000000           1"
            ]
          },
          "metadata": {
            "tags": []
          },
          "execution_count": 12
        }
      ]
    },
    {
      "cell_type": "code",
      "metadata": {
        "id": "_1Cd3w2PAfCy",
        "colab_type": "code",
        "colab": {},
        "outputId": "67979025-fe83-4219-a904-c9db1ba2353c"
      },
      "source": [
        "#Rename columns\n",
        "df2=df2.rename(columns={'overall':'Avg_rating','reviewerID':'Count_Users'})\n",
        "df2.head()"
      ],
      "execution_count": 0,
      "outputs": [
        {
          "output_type": "execute_result",
          "data": {
            "text/html": [
              "<div>\n",
              "<style scoped>\n",
              "    .dataframe tbody tr th:only-of-type {\n",
              "        vertical-align: middle;\n",
              "    }\n",
              "\n",
              "    .dataframe tbody tr th {\n",
              "        vertical-align: top;\n",
              "    }\n",
              "\n",
              "    .dataframe thead th {\n",
              "        text-align: right;\n",
              "    }\n",
              "</style>\n",
              "<table border=\"1\" class=\"dataframe\">\n",
              "  <thead>\n",
              "    <tr style=\"text-align: right;\">\n",
              "      <th></th>\n",
              "      <th>Avg_rating</th>\n",
              "      <th>Count_Users</th>\n",
              "    </tr>\n",
              "    <tr>\n",
              "      <th>asin</th>\n",
              "      <th></th>\n",
              "      <th></th>\n",
              "    </tr>\n",
              "  </thead>\n",
              "  <tbody>\n",
              "    <tr>\n",
              "      <td>0975412809</td>\n",
              "      <td>4.166667</td>\n",
              "      <td>6</td>\n",
              "    </tr>\n",
              "    <tr>\n",
              "      <td>0979699967</td>\n",
              "      <td>4.000000</td>\n",
              "      <td>1</td>\n",
              "    </tr>\n",
              "    <tr>\n",
              "      <td>0983794812</td>\n",
              "      <td>5.000000</td>\n",
              "      <td>2</td>\n",
              "    </tr>\n",
              "    <tr>\n",
              "      <td>1083812550</td>\n",
              "      <td>4.000000</td>\n",
              "      <td>1</td>\n",
              "    </tr>\n",
              "    <tr>\n",
              "      <td>1083813210</td>\n",
              "      <td>2.000000</td>\n",
              "      <td>1</td>\n",
              "    </tr>\n",
              "  </tbody>\n",
              "</table>\n",
              "</div>"
            ],
            "text/plain": [
              "            Avg_rating  Count_Users\n",
              "asin                               \n",
              "0975412809    4.166667            6\n",
              "0979699967    4.000000            1\n",
              "0983794812    5.000000            2\n",
              "1083812550    4.000000            1\n",
              "1083813210    2.000000            1"
            ]
          },
          "metadata": {
            "tags": []
          },
          "execution_count": 13
        }
      ]
    },
    {
      "cell_type": "code",
      "metadata": {
        "id": "Zr01SX2HAfC0",
        "colab_type": "code",
        "colab": {}
      },
      "source": [
        "df2=df2.reset_index()#Reset Index"
      ],
      "execution_count": 0,
      "outputs": []
    },
    {
      "cell_type": "code",
      "metadata": {
        "id": "fNfY6F8hAfC2",
        "colab_type": "code",
        "colab": {},
        "outputId": "c6baf9d3-1ee7-418b-bc7c-76fab6bf94c6"
      },
      "source": [
        "#Get items with rating over 4\n",
        "df2=df2.loc[df2.Avg_rating>4].sort_values(by='Count_Users',ascending=False)\n",
        "#Get items rated by more than 250 users\n",
        "df2=df2.loc[df2.Count_Users>250]\n",
        "df2.head()"
      ],
      "execution_count": 0,
      "outputs": [
        {
          "output_type": "execute_result",
          "data": {
            "text/html": [
              "<div>\n",
              "<style scoped>\n",
              "    .dataframe tbody tr th:only-of-type {\n",
              "        vertical-align: middle;\n",
              "    }\n",
              "\n",
              "    .dataframe tbody tr th {\n",
              "        vertical-align: top;\n",
              "    }\n",
              "\n",
              "    .dataframe thead th {\n",
              "        text-align: right;\n",
              "    }\n",
              "</style>\n",
              "<table border=\"1\" class=\"dataframe\">\n",
              "  <thead>\n",
              "    <tr style=\"text-align: right;\">\n",
              "      <th></th>\n",
              "      <th>asin</th>\n",
              "      <th>Avg_rating</th>\n",
              "      <th>Count_Users</th>\n",
              "    </tr>\n",
              "  </thead>\n",
              "  <tbody>\n",
              "    <tr>\n",
              "      <td>27016</td>\n",
              "      <td>B00CD0H1ZC</td>\n",
              "      <td>4.823723</td>\n",
              "      <td>1214</td>\n",
              "    </tr>\n",
              "    <tr>\n",
              "      <td>3382</td>\n",
              "      <td>B0009X29WK</td>\n",
              "      <td>4.498498</td>\n",
              "      <td>333</td>\n",
              "    </tr>\n",
              "    <tr>\n",
              "      <td>14183</td>\n",
              "      <td>B0040QOYZ2</td>\n",
              "      <td>4.713846</td>\n",
              "      <td>325</td>\n",
              "    </tr>\n",
              "    <tr>\n",
              "      <td>5610</td>\n",
              "      <td>B000OX64P8</td>\n",
              "      <td>4.612676</td>\n",
              "      <td>284</td>\n",
              "    </tr>\n",
              "    <tr>\n",
              "      <td>30065</td>\n",
              "      <td>B00FPKNRCS</td>\n",
              "      <td>4.665339</td>\n",
              "      <td>251</td>\n",
              "    </tr>\n",
              "  </tbody>\n",
              "</table>\n",
              "</div>"
            ],
            "text/plain": [
              "             asin  Avg_rating  Count_Users\n",
              "27016  B00CD0H1ZC    4.823723         1214\n",
              "3382   B0009X29WK    4.498498          333\n",
              "14183  B0040QOYZ2    4.713846          325\n",
              "5610   B000OX64P8    4.612676          284\n",
              "30065  B00FPKNRCS    4.665339          251"
            ]
          },
          "metadata": {
            "tags": []
          },
          "execution_count": 15
        }
      ]
    },
    {
      "cell_type": "markdown",
      "metadata": {
        "id": "S0y0R_3yAfC3",
        "colab_type": "text"
      },
      "source": [
        "## 3.c. Merge dataframes"
      ]
    },
    {
      "cell_type": "code",
      "metadata": {
        "id": "P_ZVhIYSAfC4",
        "colab_type": "code",
        "colab": {},
        "outputId": "f33fde63-6b3c-409d-f812-fcb65084df50"
      },
      "source": [
        "df=pd.merge(df2,df1a, on='asin', how='inner')#Merge dataframes x1 & df1 to get  Average rating, Count of users & Rank for each item\n",
        "df.head()"
      ],
      "execution_count": 0,
      "outputs": [
        {
          "output_type": "execute_result",
          "data": {
            "text/html": [
              "<div>\n",
              "<style scoped>\n",
              "    .dataframe tbody tr th:only-of-type {\n",
              "        vertical-align: middle;\n",
              "    }\n",
              "\n",
              "    .dataframe tbody tr th {\n",
              "        vertical-align: top;\n",
              "    }\n",
              "\n",
              "    .dataframe thead th {\n",
              "        text-align: right;\n",
              "    }\n",
              "</style>\n",
              "<table border=\"1\" class=\"dataframe\">\n",
              "  <thead>\n",
              "    <tr style=\"text-align: right;\">\n",
              "      <th></th>\n",
              "      <th>asin</th>\n",
              "      <th>Avg_rating</th>\n",
              "      <th>Count_Users</th>\n",
              "      <th>Rank</th>\n",
              "      <th>title</th>\n",
              "    </tr>\n",
              "  </thead>\n",
              "  <tbody>\n",
              "    <tr>\n",
              "      <td>0</td>\n",
              "      <td>B00CD0H1ZC</td>\n",
              "      <td>4.823723</td>\n",
              "      <td>1214</td>\n",
              "      <td>6.0</td>\n",
              "      <td>Deshedding Tool &amp;amp; Pet Grooming Tool For Small, Medium &amp;amp; Large Dogs + Cats, With Short to Long Hair. Dramatically Reduces Shedding In Minutes GUARANTEED!</td>\n",
              "    </tr>\n",
              "    <tr>\n",
              "      <td>1</td>\n",
              "      <td>B0009X29WK</td>\n",
              "      <td>4.498498</td>\n",
              "      <td>333</td>\n",
              "      <td>1.0</td>\n",
              "      <td>Precious Cat Ultra Premium Clumping Cat Litter, 40 pound bag</td>\n",
              "    </tr>\n",
              "    <tr>\n",
              "      <td>2</td>\n",
              "      <td>B0040QOYZ2</td>\n",
              "      <td>4.713846</td>\n",
              "      <td>325</td>\n",
              "      <td>1662.0</td>\n",
              "      <td>FURminator deShedding Tool for Dogs</td>\n",
              "    </tr>\n",
              "    <tr>\n",
              "      <td>3</td>\n",
              "      <td>B000OX64P8</td>\n",
              "      <td>4.612676</td>\n",
              "      <td>284</td>\n",
              "      <td>718.0</td>\n",
              "      <td>Midwest iCrate Single-Door Home Training and Travel Series</td>\n",
              "    </tr>\n",
              "    <tr>\n",
              "      <td>4</td>\n",
              "      <td>B00FPKNRCS</td>\n",
              "      <td>4.665339</td>\n",
              "      <td>251</td>\n",
              "      <td>934.0</td>\n",
              "      <td>Kyjen Slo-Bowl Slow Feeder Slow Feed Interactive Bloat Stop Dog Bowl, Large</td>\n",
              "    </tr>\n",
              "  </tbody>\n",
              "</table>\n",
              "</div>"
            ],
            "text/plain": [
              "         asin  Avg_rating  Count_Users    Rank  \\\n",
              "0  B00CD0H1ZC    4.823723         1214     6.0   \n",
              "1  B0009X29WK    4.498498          333     1.0   \n",
              "2  B0040QOYZ2    4.713846          325  1662.0   \n",
              "3  B000OX64P8    4.612676          284   718.0   \n",
              "4  B00FPKNRCS    4.665339          251   934.0   \n",
              "\n",
              "                                                                                                                                                              title  \n",
              "0  Deshedding Tool &amp; Pet Grooming Tool For Small, Medium &amp; Large Dogs + Cats, With Short to Long Hair. Dramatically Reduces Shedding In Minutes GUARANTEED!  \n",
              "1                                                                                                      Precious Cat Ultra Premium Clumping Cat Litter, 40 pound bag  \n",
              "2                                                                                                                               FURminator deShedding Tool for Dogs  \n",
              "3                                                                                                        Midwest iCrate Single-Door Home Training and Travel Series  \n",
              "4                                                                                       Kyjen Slo-Bowl Slow Feeder Slow Feed Interactive Bloat Stop Dog Bowl, Large  "
            ]
          },
          "metadata": {
            "tags": []
          },
          "execution_count": 16
        }
      ]
    },
    {
      "cell_type": "code",
      "metadata": {
        "id": "NXvGyBWXAfC6",
        "colab_type": "code",
        "colab": {},
        "outputId": "802fccc3-4fa5-4d91-cc7d-d3c9e63016a7"
      },
      "source": [
        "#Explore dataframe\n",
        "df.shape"
      ],
      "execution_count": 0,
      "outputs": [
        {
          "output_type": "execute_result",
          "data": {
            "text/plain": [
              "(5, 5)"
            ]
          },
          "metadata": {
            "tags": []
          },
          "execution_count": 17
        }
      ]
    },
    {
      "cell_type": "code",
      "metadata": {
        "id": "EpPXAxK3AfC8",
        "colab_type": "code",
        "colab": {},
        "outputId": "81ea6b11-0343-4438-b79a-ec8f85c4bc42"
      },
      "source": [
        "#Get items with rank below 1000\n",
        "df=df.loc[df.Rank<1000].sort_values(by='Rank', ascending=True)\n",
        "#Get top 10 items\n",
        "Recommendations=df.head(10)\n",
        "Recommendations"
      ],
      "execution_count": 0,
      "outputs": [
        {
          "output_type": "execute_result",
          "data": {
            "text/html": [
              "<div>\n",
              "<style scoped>\n",
              "    .dataframe tbody tr th:only-of-type {\n",
              "        vertical-align: middle;\n",
              "    }\n",
              "\n",
              "    .dataframe tbody tr th {\n",
              "        vertical-align: top;\n",
              "    }\n",
              "\n",
              "    .dataframe thead th {\n",
              "        text-align: right;\n",
              "    }\n",
              "</style>\n",
              "<table border=\"1\" class=\"dataframe\">\n",
              "  <thead>\n",
              "    <tr style=\"text-align: right;\">\n",
              "      <th></th>\n",
              "      <th>asin</th>\n",
              "      <th>Avg_rating</th>\n",
              "      <th>Count_Users</th>\n",
              "      <th>Rank</th>\n",
              "      <th>title</th>\n",
              "    </tr>\n",
              "  </thead>\n",
              "  <tbody>\n",
              "    <tr>\n",
              "      <td>1</td>\n",
              "      <td>B0009X29WK</td>\n",
              "      <td>4.498498</td>\n",
              "      <td>333</td>\n",
              "      <td>1.0</td>\n",
              "      <td>Precious Cat Ultra Premium Clumping Cat Litter, 40 pound bag</td>\n",
              "    </tr>\n",
              "    <tr>\n",
              "      <td>0</td>\n",
              "      <td>B00CD0H1ZC</td>\n",
              "      <td>4.823723</td>\n",
              "      <td>1214</td>\n",
              "      <td>6.0</td>\n",
              "      <td>Deshedding Tool &amp;amp; Pet Grooming Tool For Small, Medium &amp;amp; Large Dogs + Cats, With Short to Long Hair. Dramatically Reduces Shedding In Minutes GUARANTEED!</td>\n",
              "    </tr>\n",
              "    <tr>\n",
              "      <td>3</td>\n",
              "      <td>B000OX64P8</td>\n",
              "      <td>4.612676</td>\n",
              "      <td>284</td>\n",
              "      <td>718.0</td>\n",
              "      <td>Midwest iCrate Single-Door Home Training and Travel Series</td>\n",
              "    </tr>\n",
              "    <tr>\n",
              "      <td>4</td>\n",
              "      <td>B00FPKNRCS</td>\n",
              "      <td>4.665339</td>\n",
              "      <td>251</td>\n",
              "      <td>934.0</td>\n",
              "      <td>Kyjen Slo-Bowl Slow Feeder Slow Feed Interactive Bloat Stop Dog Bowl, Large</td>\n",
              "    </tr>\n",
              "  </tbody>\n",
              "</table>\n",
              "</div>"
            ],
            "text/plain": [
              "         asin  Avg_rating  Count_Users   Rank  \\\n",
              "1  B0009X29WK    4.498498          333    1.0   \n",
              "0  B00CD0H1ZC    4.823723         1214    6.0   \n",
              "3  B000OX64P8    4.612676          284  718.0   \n",
              "4  B00FPKNRCS    4.665339          251  934.0   \n",
              "\n",
              "                                                                                                                                                              title  \n",
              "1                                                                                                      Precious Cat Ultra Premium Clumping Cat Litter, 40 pound bag  \n",
              "0  Deshedding Tool &amp; Pet Grooming Tool For Small, Medium &amp; Large Dogs + Cats, With Short to Long Hair. Dramatically Reduces Shedding In Minutes GUARANTEED!  \n",
              "3                                                                                                        Midwest iCrate Single-Door Home Training and Travel Series  \n",
              "4                                                                                       Kyjen Slo-Bowl Slow Feeder Slow Feed Interactive Bloat Stop Dog Bowl, Large  "
            ]
          },
          "metadata": {
            "tags": []
          },
          "execution_count": 18
        }
      ]
    },
    {
      "cell_type": "code",
      "metadata": {
        "id": "PlV99R-bAfC-",
        "colab_type": "code",
        "colab": {},
        "outputId": "b6d6fdf1-f7bc-47dd-cae8-9d5a4987a2dc"
      },
      "source": [
        "#Get Product titles for Recommendations: 10 items\n",
        "Recommendations=pd.DataFrame(Recommendations.sort_values(by='Rank', ascending=True).head(10))#Order by rank & select top 10\n",
        "Recommendations[['asin','title']]"
      ],
      "execution_count": 0,
      "outputs": [
        {
          "output_type": "execute_result",
          "data": {
            "text/html": [
              "<div>\n",
              "<style scoped>\n",
              "    .dataframe tbody tr th:only-of-type {\n",
              "        vertical-align: middle;\n",
              "    }\n",
              "\n",
              "    .dataframe tbody tr th {\n",
              "        vertical-align: top;\n",
              "    }\n",
              "\n",
              "    .dataframe thead th {\n",
              "        text-align: right;\n",
              "    }\n",
              "</style>\n",
              "<table border=\"1\" class=\"dataframe\">\n",
              "  <thead>\n",
              "    <tr style=\"text-align: right;\">\n",
              "      <th></th>\n",
              "      <th>asin</th>\n",
              "      <th>title</th>\n",
              "    </tr>\n",
              "  </thead>\n",
              "  <tbody>\n",
              "    <tr>\n",
              "      <td>1</td>\n",
              "      <td>B0009X29WK</td>\n",
              "      <td>Precious Cat Ultra Premium Clumping Cat Litter, 40 pound bag</td>\n",
              "    </tr>\n",
              "    <tr>\n",
              "      <td>0</td>\n",
              "      <td>B00CD0H1ZC</td>\n",
              "      <td>Deshedding Tool &amp;amp; Pet Grooming Tool For Small, Medium &amp;amp; Large Dogs + Cats, With Short to Long Hair. Dramatically Reduces Shedding In Minutes GUARANTEED!</td>\n",
              "    </tr>\n",
              "    <tr>\n",
              "      <td>3</td>\n",
              "      <td>B000OX64P8</td>\n",
              "      <td>Midwest iCrate Single-Door Home Training and Travel Series</td>\n",
              "    </tr>\n",
              "    <tr>\n",
              "      <td>4</td>\n",
              "      <td>B00FPKNRCS</td>\n",
              "      <td>Kyjen Slo-Bowl Slow Feeder Slow Feed Interactive Bloat Stop Dog Bowl, Large</td>\n",
              "    </tr>\n",
              "  </tbody>\n",
              "</table>\n",
              "</div>"
            ],
            "text/plain": [
              "         asin  \\\n",
              "1  B0009X29WK   \n",
              "0  B00CD0H1ZC   \n",
              "3  B000OX64P8   \n",
              "4  B00FPKNRCS   \n",
              "\n",
              "                                                                                                                                                              title  \n",
              "1                                                                                                      Precious Cat Ultra Premium Clumping Cat Litter, 40 pound bag  \n",
              "0  Deshedding Tool &amp; Pet Grooming Tool For Small, Medium &amp; Large Dogs + Cats, With Short to Long Hair. Dramatically Reduces Shedding In Minutes GUARANTEED!  \n",
              "3                                                                                                        Midwest iCrate Single-Door Home Training and Travel Series  \n",
              "4                                                                                       Kyjen Slo-Bowl Slow Feeder Slow Feed Interactive Bloat Stop Dog Bowl, Large  "
            ]
          },
          "metadata": {
            "tags": []
          },
          "execution_count": 19
        }
      ]
    },
    {
      "cell_type": "code",
      "metadata": {
        "id": "Q3noiqj9AfC_",
        "colab_type": "code",
        "colab": {}
      },
      "source": [
        ""
      ],
      "execution_count": 0,
      "outputs": []
    }
  ]
}